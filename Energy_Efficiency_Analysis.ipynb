{
 "cells": [
  {
   "cell_type": "code",
   "execution_count": 1,
   "metadata": {
    "collapsed": true
   },
   "outputs": [],
   "source": [
    "import pandas as pd\n",
    "import csv\n",
    "import os\n",
    "import numpy as np\n",
    "import datetime\n",
    "import time\n",
    "import matplotlib.pyplot as plt\n",
    "Working_dir = os.getcwd()"
   ]
  },
  {
   "cell_type": "code",
   "execution_count": 38,
   "metadata": {
    "collapsed": true
   },
   "outputs": [],
   "source": [
    "res = pd.read_excel( os.path.join( Working_dir, \"Transformer load profiles.xlsx\" ),skiprows=2 )\n",
    "res.drop(res.columns[0],axis=1,inplace=True)"
   ]
  },
  {
   "cell_type": "code",
   "execution_count": 44,
   "metadata": {},
   "outputs": [
    {
     "data": {
      "text/html": [
       "<div>\n",
       "<style>\n",
       "    .dataframe thead tr:only-child th {\n",
       "        text-align: right;\n",
       "    }\n",
       "\n",
       "    .dataframe thead th {\n",
       "        text-align: left;\n",
       "    }\n",
       "\n",
       "    .dataframe tbody tr th {\n",
       "        vertical-align: top;\n",
       "    }\n",
       "</style>\n",
       "<table border=\"1\" class=\"dataframe\">\n",
       "  <thead>\n",
       "    <tr style=\"text-align: right;\">\n",
       "      <th></th>\n",
       "      <th>hour</th>\n",
       "      <th>0</th>\n",
       "      <th>0.1</th>\n",
       "      <th>0.2</th>\n",
       "      <th>0.3</th>\n",
       "      <th>0.4</th>\n",
       "    </tr>\n",
       "  </thead>\n",
       "  <tbody>\n",
       "    <tr>\n",
       "      <th>0</th>\n",
       "      <td>1</td>\n",
       "      <td>17.988825</td>\n",
       "      <td>17.988825</td>\n",
       "      <td>17.988825</td>\n",
       "      <td>17.988825</td>\n",
       "      <td>17.988825</td>\n",
       "    </tr>\n",
       "    <tr>\n",
       "      <th>1</th>\n",
       "      <td>2</td>\n",
       "      <td>17.854960</td>\n",
       "      <td>17.854960</td>\n",
       "      <td>17.854960</td>\n",
       "      <td>17.854960</td>\n",
       "      <td>17.854960</td>\n",
       "    </tr>\n",
       "    <tr>\n",
       "      <th>2</th>\n",
       "      <td>3</td>\n",
       "      <td>15.955075</td>\n",
       "      <td>15.955075</td>\n",
       "      <td>15.955075</td>\n",
       "      <td>15.955075</td>\n",
       "      <td>15.955075</td>\n",
       "    </tr>\n",
       "    <tr>\n",
       "      <th>3</th>\n",
       "      <td>4</td>\n",
       "      <td>16.282195</td>\n",
       "      <td>16.282195</td>\n",
       "      <td>16.282195</td>\n",
       "      <td>16.282195</td>\n",
       "      <td>16.282195</td>\n",
       "    </tr>\n",
       "    <tr>\n",
       "      <th>4</th>\n",
       "      <td>5</td>\n",
       "      <td>13.489930</td>\n",
       "      <td>13.489930</td>\n",
       "      <td>13.489930</td>\n",
       "      <td>13.489930</td>\n",
       "      <td>13.489930</td>\n",
       "    </tr>\n",
       "  </tbody>\n",
       "</table>\n",
       "</div>"
      ],
      "text/plain": [
       "   hour          0        0.1        0.2        0.3        0.4\n",
       "0     1  17.988825  17.988825  17.988825  17.988825  17.988825\n",
       "1     2  17.854960  17.854960  17.854960  17.854960  17.854960\n",
       "2     3  15.955075  15.955075  15.955075  15.955075  15.955075\n",
       "3     4  16.282195  16.282195  16.282195  16.282195  16.282195\n",
       "4     5  13.489930  13.489930  13.489930  13.489930  13.489930"
      ]
     },
     "execution_count": 44,
     "metadata": {},
     "output_type": "execute_result"
    }
   ],
   "source": [
    "res.columns.values[0]='hour'\n",
    "\n",
    "res.head()"
   ]
  },
  {
   "cell_type": "markdown",
   "metadata": {},
   "source": [
    "-----------\n",
    "Data analysis: when generation rate is different for columns\n",
    "\n",
    "Negative generation rates mean that PV needed power itself?\n",
    "\n",
    "Anyway, they will not affect the result since a formula below contains squares"
   ]
  },
  {
   "cell_type": "code",
   "execution_count": 67,
   "metadata": {},
   "outputs": [
    {
     "name": "stdout",
     "output_type": "stream",
     "text": [
      "      hour          0        0.1        0.2        0.3        0.4\n",
      "1426  1427  14.622412  14.617737  14.613062  14.608387  14.603713\n",
      "1427  1428  15.481214  15.476482  15.471750  15.467018  15.462286\n",
      "1428  1429  15.421773  15.415007  15.408241  15.401474  15.394708\n",
      "1429  1430  17.314813  17.311129  17.307444  17.303759  17.300075\n",
      "1430  1431  16.096731  16.091272  16.085814  16.080355  16.074896\n",
      "1431  1432  16.331657  16.324400  16.317142  16.309885  16.302628\n",
      "1432  1433  15.465663  15.431731  15.397801  15.363873  15.329948\n",
      "1433  1434  22.346143  22.344896  22.343648  22.342401  22.341154\n",
      "1448  1449  17.265200  17.262655  17.260110  17.257566  17.255021\n",
      "1449  1450   6.616222   6.566268   6.516319   6.466375   6.416436\n",
      "1450  1451   7.750975   7.306732   6.862900   6.419478   5.976465\n",
      "1451  1452  12.605895  11.758168  10.911933  10.067183   9.223914\n",
      "1452  1453  26.796798  25.685652  24.577043  23.470961  22.367396\n",
      "1453  1454  23.710359  22.468102  21.229020  19.993098  18.760324\n",
      "1454  1455  20.226567  17.092332  13.978302  10.884245   7.809934\n",
      "1455  1456  19.373037  17.835814  16.303469  14.775972  13.253298\n",
      "1456  1457  20.960684  20.613441  20.266449  19.919706  19.573212\n",
      "1457  1458  22.052361  22.052174  22.051987  22.051800  22.051613\n",
      "1471  1472  20.020539  20.019219  20.017900  20.016580  20.015260\n",
      "1472  1473  17.014856  16.594213  16.173937  15.754027  15.334482\n",
      "1473  1474  17.854514  16.219067  14.589150  12.964732  11.345777\n",
      "1474  1475  18.191101  14.834284  11.500654   8.189923   4.901812\n",
      "1475  1476  19.143499  14.631635  10.161644   5.732836   1.344532\n",
      "1476  1477  19.708996  14.246642   8.845466   3.504248  -1.778200\n",
      "1477  1478  15.201198   8.461748   1.815513  -4.739804 -11.206432\n",
      "1478  1479  15.921050  11.074097   6.275483   1.524345  -3.180159\n",
      "1479  1480  17.161207  12.933424   8.742439   4.587682   0.468591\n",
      "1480  1481  15.660208  13.135080  10.623124   8.124217   5.638239\n",
      "1481  1482  22.697963  22.567125  22.436321  22.305553  22.174820\n",
      "1495  1496  16.692710  16.689671  16.686631  16.683591  16.680551\n",
      "...    ...        ...        ...        ...        ...        ...\n",
      "7860  7861  10.275835   9.899462   9.523384   9.147600   8.772111\n",
      "7861  7862  11.132202  11.061223  10.990254  10.919295  10.848347\n",
      "7862  7863  13.730248  13.728884  13.727520  13.726155  13.724791\n",
      "7881  7882  18.460784  18.458011  18.455237  18.452464  18.449690\n",
      "7882  7883  18.096183  18.090481  18.084780  18.079079  18.073378\n",
      "7883  7884  17.570567  17.564268  17.557970  17.551671  17.545373\n",
      "7884  7885  15.510708  15.501920  15.493132  15.484345  15.475557\n",
      "7885  7886  15.034151  14.940414  14.846696  14.752995  14.659313\n",
      "7905  7906  21.595556  21.594423  21.593290  21.592157  21.591024\n",
      "7906  7907  21.636214  21.631976  21.627739  21.623501  21.619264\n",
      "7907  7908  20.671394  20.665647  20.659900  20.654153  20.648406\n",
      "7908  7909  20.404417  20.399156  20.393896  20.388636  20.383376\n",
      "7909  7910  20.160818  20.158814  20.156809  20.154805  20.152801\n",
      "7929  7930  16.864759  16.860439  16.856118  16.851798  16.847477\n",
      "7930  7931  14.909791  14.906235  14.902679  14.899123  14.895567\n",
      "7931  7932  14.593427  14.586305  14.579182  14.572060  14.564938\n",
      "7932  7933  13.319046  13.070379  12.821840  12.573430  12.325149\n",
      "7933  7934  15.787100  15.318323  14.850002  14.382136  13.914724\n",
      "7934  7935  16.920595  16.880601  16.840611  16.800624  16.760641\n",
      "7953  7954  19.045189  19.043966  19.042743  19.041521  19.040298\n",
      "7954  7955  20.528713  20.523261  20.517810  20.512359  20.506907\n",
      "7955  7956  25.312448  25.305297  25.298146  25.290996  25.283845\n",
      "7956  7957  19.984584  19.980226  19.975867  19.971509  19.967151\n",
      "7957  7958  16.019049  16.017894  16.016738  16.015583  16.014428\n",
      "7978  7979  20.951954  20.942863  20.933773  20.924682  20.915592\n",
      "7979  7980  20.235437  20.115569  19.995731  19.875923  19.756144\n",
      "7980  7981  20.540982  19.620148  18.701071  17.783743  16.868160\n",
      "7981  7982  19.428024  18.082194  16.740115  15.401769  14.067138\n",
      "7982  7983  19.173256  19.103477  19.033708  18.963949  18.894200\n",
      "8004  8005  15.576537  15.572209  15.567882  15.563555  15.559227\n",
      "\n",
      "[3716 rows x 6 columns]\n"
     ]
    }
   ],
   "source": [
    "print(res[res.ix[:,1]!=res.ix[:,2]])"
   ]
  },
  {
   "cell_type": "markdown",
   "metadata": {},
   "source": [
    "------\n",
    "Hours in a year (TH)"
   ]
  },
  {
   "cell_type": "code",
   "execution_count": 45,
   "metadata": {},
   "outputs": [
    {
     "name": "stdout",
     "output_type": "stream",
     "text": [
      "TH =  8760\n"
     ]
    }
   ],
   "source": [
    "TH = res.iloc[:,0].max()\n",
    "print(\"TH = \", TH)"
   ]
  },
  {
   "cell_type": "markdown",
   "metadata": {},
   "source": [
    "--------\n",
    "Peak load of average loads"
   ]
  },
  {
   "cell_type": "code",
   "execution_count": 43,
   "metadata": {},
   "outputs": [
    {
     "name": "stdout",
     "output_type": "stream",
     "text": [
      "Peak avg load (kW) =  36.1969245143\n"
     ]
    }
   ],
   "source": [
    "peak = res.iloc[:,1].max()\n",
    "print(\"Peak avg load (kW) = \", peak)"
   ]
  },
  {
   "cell_type": "markdown",
   "metadata": {},
   "source": [
    "-----------\n",
    "Annual no load loss (kWh) = No load loss (kW) * TH (h)\n",
    "\n",
    "Statistics taken for a three–phase dry-type medium power transformer\n",
    "\n",
    "No load loss = 280 W"
   ]
  },
  {
   "cell_type": "code",
   "execution_count": 46,
   "metadata": {},
   "outputs": [
    {
     "name": "stdout",
     "output_type": "stream",
     "text": [
      "Annual no load loss (kWh) =  2452.8\n"
     ]
    }
   ],
   "source": [
    "no_load_loss = 0.28 * TH\n",
    "print(\"Annual no load loss (kWh) = \", no_load_loss)"
   ]
  },
  {
   "cell_type": "markdown",
   "metadata": {},
   "source": [
    "------------\n",
    "Annual load loss (kWh) = Load loss (kW) \\* (load percent/100) \\* TH (h) * LLF\n",
    "\n",
    "$LLF = \\sum_{n=1}^{TH} \\frac{(Load_n)^2}{(Peak_load)^2} / TH$\n",
    "\n",
    "Load loss = 2.05 kW from the requirements document"
   ]
  },
  {
   "cell_type": "code",
   "execution_count": 69,
   "metadata": {},
   "outputs": [
    {
     "name": "stdout",
     "output_type": "stream",
     "text": [
      "LLF (10%) =  0.166883028699\n",
      "LLF (20%) =  0.154372050224\n",
      "LLF (30%) =  0.154973470451\n",
      "LLF (40%) =  0.16805669561\n"
     ]
    }
   ],
   "source": [
    "LLF_10 = sum( res.ix[:,1].apply(lambda x: x**2/peak**2 ))/TH\n",
    "print( \"LLF (10%) = \", LLF_10)\n",
    "\n",
    "LLF_20 = sum( res.ix[:,2].apply(lambda x: x**2/peak**2 ))/TH\n",
    "print( \"LLF (20%) = \", LLF_20)\n",
    "\n",
    "LLF_30 = sum( res.ix[:,3].apply(lambda x: x**2/peak**2 ))/TH\n",
    "print( \"LLF (30%) = \", LLF_30)\n",
    "\n",
    "LLF_40 = sum( res.ix[:,4].apply(lambda x: x**2/peak**2 ))/TH\n",
    "print( \"LLF (40%) = \", LLF_40)"
   ]
  },
  {
   "cell_type": "markdown",
   "metadata": {},
   "source": [
    "-------\n",
    "Annual load loss (kWh) for 10% load"
   ]
  },
  {
   "cell_type": "code",
   "execution_count": null,
   "metadata": {
    "collapsed": true
   },
   "outputs": [],
   "source": [
    "loss = 2.05\n",
    "load_loss_10 = loss * 0.1 * TH #* LLF_10\n",
    "load_loss_20 = loss * 0.2 * TH #* LLF_20\n",
    "load_loss_30 = loss * 0.3 * TH #* LLF_30\n",
    "load_loss_40 = loss * 0.4 * TH #* LLF_40\n",
    "res.ix[res.shape[0]]  = [\"loss\", no_load_loss, load_loss_10, load_loss_20, load_loss_30, load_loss_40]"
   ]
  },
  {
   "cell_type": "code",
   "execution_count": 93,
   "metadata": {},
   "outputs": [
    {
     "name": "stdout",
     "output_type": "stream",
     "text": [
      "Losses (kWh)\n",
      "no load:  2452.8 \n",
      "10% load:  1795.8\n",
      "20% load:  3591.6\n",
      "30% load:  5387.4\n",
      "40% load:  7183.2\n"
     ]
    }
   ],
   "source": [
    "print(\"Losses (kWh)\\nno load: \", no_load_loss,\"\\n10% load: \", load_loss_10)\n",
    "print(\"20% load: \", load_loss_20)\n",
    "print(\"30% load: \", load_loss_30)\n",
    "print(\"40% load: \", load_loss_40)"
   ]
  }
 ],
 "metadata": {
  "kernelspec": {
   "display_name": "Python 3",
   "language": "python",
   "name": "python3"
  },
  "language_info": {
   "codemirror_mode": {
    "name": "ipython",
    "version": 3
   },
   "file_extension": ".py",
   "mimetype": "text/x-python",
   "name": "python",
   "nbconvert_exporter": "python",
   "pygments_lexer": "ipython3",
   "version": "3.6.0"
  }
 },
 "nbformat": 4,
 "nbformat_minor": 2
}
